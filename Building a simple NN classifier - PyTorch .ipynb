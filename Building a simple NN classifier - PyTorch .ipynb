{
 "cells": [
  {
   "cell_type": "markdown",
   "id": "35be658e",
   "metadata": {},
   "source": [
    "# Building a simple NN classifier from scratch - PyTorch version\n",
    "## 0.1 Environment set up\n",
    "1. [Anaconda](https://www.anaconda.com/) or [miniconda](https://docs.conda.io/en/latest/miniconda.html) (a small, bootstrap version of Anaconda)\n",
    "\n",
    "2. install jupyter notebook with python3 (base environment)\n",
    "`conda install -c conda-forge notebook`\n",
    "`conda install -c conda-forge nb_conda_kernels`\n",
    "\n",
    "    install jupyter lab\n",
    "`conda install -c conda-forge jupyterlab\n",
    "conda install -c conda-forge nb_conda_kernels`\n",
    "\n",
    "    install jupyter notebook extensions\n",
    "`conda install -c conda-forge jupyter_contrib_nbextensions`\n",
    "\n",
    "\n",
    "3. create new conda environment `conda create --name pytorch`\n",
    "\n",
    "\n",
    "4. install [PyTorch](https://pytorch.org/get-started/locally/) `conda install pytorch torchvision torchaudio -c pytorch` \n",
    "\n",
    "\n",
    "5. install jupyter notebook in new environment\n",
    "`conda install ipykernel`\n",
    "\n",
    "\n",
    "6. install matplotlib\n",
    "`pip install matplotlib`\n",
    "\n",
    "## 0.2 Basic PyTorch\n",
    "Ref:\n",
    "- [PyTorch doc](https://pytorch.org/tutorials/beginner/basics/quickstart_tutorial.html)\n",
    "- [autograd package](https://pytorch.org/docs/stable/autograd.html)"
   ]
  },
  {
   "cell_type": "code",
   "execution_count": null,
   "id": "e199fbcc",
   "metadata": {},
   "outputs": [],
   "source": [
    "import torch"
   ]
  },
  {
   "cell_type": "code",
   "execution_count": 2,
   "id": "fea262a6",
   "metadata": {},
   "outputs": [
    {
     "name": "stdout",
     "output_type": "stream",
     "text": [
      "tensor([[3.2374e-01, 7.4124e-01, 4.5525e-01],\n",
      "        [7.5486e-01, 1.1378e-01, 5.4302e-01],\n",
      "        [5.3822e-01, 5.6724e-01, 2.8513e-01],\n",
      "        [3.4849e-01, 2.7817e-04, 9.1305e-01],\n",
      "        [4.2904e-01, 8.1455e-03, 6.0758e-01]])\n"
     ]
    }
   ],
   "source": [
    "# play with torch data structure, same as numpy but with GPU acceleration\n",
    "x = torch.rand(5, 3)\n",
    "print(x)"
   ]
  },
  {
   "cell_type": "code",
   "execution_count": 8,
   "id": "d4628ae3",
   "metadata": {},
   "outputs": [
    {
     "name": "stdout",
     "output_type": "stream",
     "text": [
      "tensor([[0.3257, 0.9649, 0.8241],\n",
      "        [0.5690, 0.7317, 0.0626],\n",
      "        [0.7246, 0.9066, 0.9833],\n",
      "        [0.5350, 0.7006, 0.7829],\n",
      "        [0.1537, 0.3673, 0.5083]])\n"
     ]
    }
   ],
   "source": [
    "x = torch.rand(5,3)\n",
    "print(x)"
   ]
  },
  {
   "cell_type": "code",
   "execution_count": 10,
   "id": "54029b2d",
   "metadata": {},
   "outputs": [
    {
     "data": {
      "text/plain": [
       "tensor([[0, 0, 0],\n",
       "        [0, 0, 0],\n",
       "        [0, 0, 0],\n",
       "        [0, 0, 0],\n",
       "        [0, 0, 0]])"
      ]
     },
     "execution_count": 10,
     "metadata": {},
     "output_type": "execute_result"
    }
   ],
   "source": [
    "x = torch.zeros(5,3,dtype=torch.long)\n",
    "x"
   ]
  },
  {
   "cell_type": "markdown",
   "id": "d6540b2e",
   "metadata": {},
   "source": [
    "## autograd - Automatic differentiation package"
   ]
  },
  {
   "cell_type": "code",
   "execution_count": 12,
   "id": "4e9852fe",
   "metadata": {},
   "outputs": [
    {
     "name": "stdout",
     "output_type": "stream",
     "text": [
      "tensor([[1., 1.],\n",
      "        [1., 1.]], requires_grad=True)\n"
     ]
    }
   ],
   "source": [
    "x = torch.ones(2, 2, requires_grad=True) #track the computation history\n",
    "print(x)"
   ]
  },
  {
   "cell_type": "code",
   "execution_count": 13,
   "id": "94028b8e",
   "metadata": {},
   "outputs": [
    {
     "data": {
      "text/plain": [
       "tensor([[3., 3.],\n",
       "        [3., 3.]], grad_fn=<AddBackward0>)"
      ]
     },
     "execution_count": 13,
     "metadata": {},
     "output_type": "execute_result"
    }
   ],
   "source": [
    "y = x+2\n",
    "y"
   ]
  },
  {
   "cell_type": "code",
   "execution_count": 20,
   "id": "e84c9aa9",
   "metadata": {},
   "outputs": [
    {
     "data": {
      "text/plain": [
       "(tensor([[27., 27.],\n",
       "         [27., 27.]], grad_fn=<MulBackward0>),\n",
       " tensor(27., grad_fn=<MeanBackward0>))"
      ]
     },
     "execution_count": 20,
     "metadata": {},
     "output_type": "execute_result"
    }
   ],
   "source": [
    "z = (y*y*3)\n",
    "out = z.mean()\n",
    "z,out"
   ]
  },
  {
   "cell_type": "code",
   "execution_count": 18,
   "id": "ebc94f98",
   "metadata": {},
   "outputs": [],
   "source": [
    "out.backward() "
   ]
  },
  {
   "cell_type": "code",
   "execution_count": 19,
   "id": "6ee11aa0",
   "metadata": {},
   "outputs": [
    {
     "data": {
      "text/plain": [
       "tensor([[4.5000, 4.5000],\n",
       "        [4.5000, 4.5000]])"
      ]
     },
     "execution_count": 19,
     "metadata": {},
     "output_type": "execute_result"
    }
   ],
   "source": [
    "x.grad"
   ]
  },
  {
   "cell_type": "markdown",
   "id": "631f7a98",
   "metadata": {},
   "source": [
    "suppose out as $o$, then $o = \\frac{1}{4} \\sum_i z_i$\n",
    "$z_i = 3(x_i+2)^2$ and $z_i \\bigr \\rvert_{x_i=1} = 27$\n",
    "    \n",
    "$\\frac{\\partial o}{\\partial x_i} = \\frac{3}{2}(x_i+2),\n",
    "\\frac{\\partial o}{\\partial x_i}\\bigr \\rvert_{x_i=1} = \\frac{9}{2} = 4.5$"
   ]
  },
  {
   "cell_type": "markdown",
   "id": "cf1490bf",
   "metadata": {},
   "source": [
    "## 1 Neural Networks (NN)\n",
    "\n",
    "### A standard training process for NN\n",
    "1. Set a NN model with learnable parameters (weight) \n",
    "2. Iterate on dataset\n",
    "3. Process inputs on NN\n",
    "4. Calculate loss\n",
    "5. Backpropagate weights based on gradient \n",
    "6. Update weight based on weight = weight - learning_rate * gradient"
   ]
  },
  {
   "cell_type": "code",
   "execution_count": 39,
   "id": "977d53bb",
   "metadata": {},
   "outputs": [
    {
     "name": "stdout",
     "output_type": "stream",
     "text": [
      "Net(\n",
      "  (conv1): Conv2d(3, 6, kernel_size=(5, 5), stride=(1, 1))\n",
      "  (conv2): Conv2d(6, 16, kernel_size=(5, 5), stride=(1, 1))\n",
      "  (fc1): Linear(in_features=400, out_features=120, bias=True)\n",
      "  (fc2): Linear(in_features=120, out_features=84, bias=True)\n",
      "  (fc3): Linear(in_features=84, out_features=10, bias=True)\n",
      ")\n"
     ]
    }
   ],
   "source": [
    "import torch.nn as nn\n",
    "import torch.nn.functional as F\n",
    "\n",
    "# set up a NN\n",
    "class Net(nn.Module):\n",
    "\n",
    "    def __init__(self):\n",
    "        super(Net, self).__init__()\n",
    "        # kernel\n",
    "        self.conv1 = nn.Conv2d(3, 6, 5) # 3 input image channel, 6 output channels, 5x5 square convolution\n",
    "        self.conv2 = nn.Conv2d(6, 16, 5)\n",
    "        # an affine operation: y = Wx + b\n",
    "        self.fc1 = nn.Linear(16 * 5 * 5, 120)\n",
    "        self.fc2 = nn.Linear(120, 84)\n",
    "        self.fc3 = nn.Linear(84, 10)\n",
    "\n",
    "    def forward(self, x):\n",
    "        # Max pooling over a (2, 2) window\n",
    "        x = F.max_pool2d(F.relu(self.conv1(x)), (2, 2))\n",
    "        # If the size is a square you can only specify a single number\n",
    "        x = F.max_pool2d(F.relu(self.conv2(x)), 2)\n",
    "        x = x.view(-1, self.num_flat_features(x))\n",
    "        x = F.relu(self.fc1(x))\n",
    "        x = F.relu(self.fc2(x))\n",
    "        x = self.fc3(x)\n",
    "        return x\n",
    "    \n",
    "    def num_flat_features(self, x):\n",
    "        size = x.size()[1:]  # all dimensions except the batch dimension\n",
    "        num_features = 1\n",
    "        for s in size:\n",
    "            num_features *= s\n",
    "        return num_features\n",
    "\n",
    "\n",
    "net = Net()\n",
    "print(net)"
   ]
  },
  {
   "cell_type": "code",
   "execution_count": 28,
   "id": "ac5f6ed9",
   "metadata": {},
   "outputs": [
    {
     "name": "stdout",
     "output_type": "stream",
     "text": [
      "10\n",
      "torch.Size([6, 1, 5, 5])\n"
     ]
    }
   ],
   "source": [
    "params = list(net.parameters()) # since the output size of our last fully connected layer is 10\n",
    "print(len(params))\n",
    "print(params[0].size())  # conv1's .weight"
   ]
  },
  {
   "cell_type": "markdown",
   "id": "ce7e287b",
   "metadata": {},
   "source": [
    "Test a random input with size 32x32"
   ]
  },
  {
   "cell_type": "code",
   "execution_count": 24,
   "id": "3ef7da49",
   "metadata": {},
   "outputs": [
    {
     "name": "stdout",
     "output_type": "stream",
     "text": [
      "tensor([[ 0.0605,  0.0536, -0.0716, -0.0461,  0.1117, -0.0940, -0.0305,  0.0092,\n",
      "         -0.0442, -0.0187]], grad_fn=<AddmmBackward0>)\n"
     ]
    }
   ],
   "source": [
    "input = torch.randn(1, 1, 32, 32)"
   ]
  },
  {
   "cell_type": "code",
   "execution_count": 31,
   "id": "0a948184",
   "metadata": {},
   "outputs": [
    {
     "name": "stdout",
     "output_type": "stream",
     "text": [
      "tensor(1.2678, grad_fn=<MseLossBackward0>)\n"
     ]
    }
   ],
   "source": [
    "#loss function\n",
    "output = net(input)\n",
    "target = torch.randn(10)  \n",
    "target = target.view(1, -1)  #set target as the same shape as the output \n",
    "criterion = nn.MSELoss()\n",
    "\n",
    "loss = criterion(output, target)\n",
    "print(loss)"
   ]
  },
  {
   "cell_type": "markdown",
   "id": "77c4de8e",
   "metadata": {},
   "source": [
    "### Backward"
   ]
  },
  {
   "cell_type": "code",
   "execution_count": 32,
   "id": "d342d519",
   "metadata": {},
   "outputs": [
    {
     "name": "stdout",
     "output_type": "stream",
     "text": [
      "conv1.bias.grad before backward\n",
      "tensor([0., 0., 0., 0., 0., 0.])\n",
      "conv1.bias.grad after backward\n",
      "tensor([-0.0126, -0.0043,  0.0223, -0.0013, -0.0199, -0.0142])\n"
     ]
    }
   ],
   "source": [
    "net.zero_grad()     # vanish grad\n",
    "\n",
    "print('conv1.bias.grad before backward')\n",
    "print(net.conv1.bias.grad)\n",
    "\n",
    "loss.backward()\n",
    "\n",
    "print('conv1.bias.grad after backward')\n",
    "print(net.conv1.bias.grad)"
   ]
  },
  {
   "cell_type": "code",
   "execution_count": 33,
   "id": "fa831c1e",
   "metadata": {},
   "outputs": [],
   "source": [
    "# update weights\n",
    "import torch.optim as optim\n",
    "\n",
    "# create your optimizer\n",
    "optimizer = optim.SGD(net.parameters(), lr=0.01)\n",
    "\n",
    "# in your training loop:\n",
    "optimizer.zero_grad()   # zero the gradient buffers\n",
    "output = net(input)\n",
    "loss = criterion(output, target)\n",
    "loss.backward()\n",
    "optimizer.step()    # Does the update"
   ]
  },
  {
   "cell_type": "markdown",
   "id": "69c5a55b",
   "metadata": {},
   "source": [
    "## 2 Simple NN classifier - CIFAR10\n",
    "\n",
    "Right now we build a NN and can update weights using backpropagation, the next step is to create a classifier based on this NN. We will use CIFAR10 dataset as the input and the above NN to train the classifier."
   ]
  },
  {
   "cell_type": "code",
   "execution_count": 34,
   "id": "cd30ea61",
   "metadata": {},
   "outputs": [],
   "source": [
    "import torch\n",
    "import torchvision\n",
    "import torchvision.transforms as transforms"
   ]
  },
  {
   "cell_type": "code",
   "execution_count": 35,
   "id": "1999afbe",
   "metadata": {},
   "outputs": [
    {
     "name": "stdout",
     "output_type": "stream",
     "text": [
      "Downloading https://www.cs.toronto.edu/~kriz/cifar-10-python.tar.gz to ./data/cifar-10-python.tar.gz\n"
     ]
    },
    {
     "name": "stderr",
     "output_type": "stream",
     "text": [
      "100.0%\n"
     ]
    },
    {
     "name": "stdout",
     "output_type": "stream",
     "text": [
      "Extracting ./data/cifar-10-python.tar.gz to ./data\n",
      "Files already downloaded and verified\n"
     ]
    }
   ],
   "source": [
    "# load CIFAR10 dataset \n",
    "transform = transforms.Compose(\n",
    "    [transforms.ToTensor(),\n",
    "     transforms.Normalize((0.5, 0.5, 0.5), (0.5, 0.5, 0.5))])\n",
    "\n",
    "trainset = torchvision.datasets.CIFAR10(root='./data', train=True,\n",
    "                                        download=True, transform=transform)\n",
    "trainloader = torch.utils.data.DataLoader(trainset, batch_size=4,\n",
    "                                          shuffle=True, num_workers=2)\n",
    "\n",
    "testset = torchvision.datasets.CIFAR10(root='./data', train=False,\n",
    "                                       download=True, transform=transform)\n",
    "testloader = torch.utils.data.DataLoader(testset, batch_size=4,\n",
    "                                         shuffle=False, num_workers=2)\n",
    "\n",
    "classes = ('plane', 'car', 'bird', 'cat',\n",
    "           'deer', 'dog', 'frog', 'horse', 'ship', 'truck')"
   ]
  },
  {
   "cell_type": "code",
   "execution_count": 38,
   "id": "ccd07297",
   "metadata": {},
   "outputs": [
    {
     "name": "stdout",
     "output_type": "stream",
     "text": [
      " frog  cat  dog bird\n"
     ]
    },
    {
     "data": {
      "image/png": "[encoded data removed]",
      "text/plain": [
       "<Figure size 432x288 with 1 Axes>"
      ]
     },
     "metadata": {
      "needs_background": "light"
     },
     "output_type": "display_data"
    }
   ],
   "source": [
    "import matplotlib.pyplot as plt\n",
    "import numpy as np\n",
    "\n",
    "#visualize img\n",
    "def imshow(img):\n",
    "    img = img / 2 + 0.5     # unnormalize\n",
    "    npimg = img.numpy()\n",
    "    plt.imshow(np.transpose(npimg, (1, 2, 0)))\n",
    "    \n",
    "dataiter = iter(trainloader)\n",
    "images, labels = dataiter.next()\n",
    "\n",
    "imshow(torchvision.utils.make_grid(images))\n",
    "print(''.join('%5s' % classes[labels[j]] for j in range(4)))"
   ]
  },
  {
   "cell_type": "markdown",
   "id": "b087f4b0",
   "metadata": {},
   "source": [
    "### Define a loss and optimizer"
   ]
  },
  {
   "cell_type": "code",
   "execution_count": 40,
   "id": "0f18ef21",
   "metadata": {},
   "outputs": [],
   "source": [
    "import torch.optim as optim\n",
    "\n",
    "criterion = nn.CrossEntropyLoss()\n",
    "optimizer = optim.SGD(net.parameters(), lr=0.001, momentum=0.9)"
   ]
  },
  {
   "cell_type": "markdown",
   "id": "b87e8741",
   "metadata": {},
   "source": [
    "### Train the network"
   ]
  },
  {
   "cell_type": "code",
   "execution_count": 47,
   "id": "8a2d32ce",
   "metadata": {},
   "outputs": [
    {
     "name": "stdout",
     "output_type": "stream",
     "text": [
      "[1,  2000] loss: 1.213\n",
      "[1,  4000] loss: 1.210\n",
      "[1,  6000] loss: 1.192\n",
      "[1,  8000] loss: 1.184\n",
      "[1, 10000] loss: 1.178\n",
      "[1, 12000] loss: 1.180\n",
      "[2,  2000] loss: 1.088\n",
      "[2,  4000] loss: 1.100\n",
      "[2,  6000] loss: 1.099\n",
      "[2,  8000] loss: 1.150\n",
      "[2, 10000] loss: 1.092\n",
      "[2, 12000] loss: 1.089\n",
      "Finished Training\n"
     ]
    }
   ],
   "source": [
    "for epoch in range(2):  \n",
    "\n",
    "    running_loss = 0.0\n",
    "    for i, data in enumerate(trainloader, 0):\n",
    "        inputs, labels = data\n",
    "\n",
    "        # zero the parameter gradients\n",
    "        optimizer.zero_grad()\n",
    "\n",
    "        outputs = net(inputs)\n",
    "        loss = criterion(outputs, labels)\n",
    "        loss.backward()\n",
    "        optimizer.step()\n",
    "\n",
    "        running_loss += loss.item()\n",
    "        if i % 2000 == 1999:    \n",
    "            print('[%d, %5d] loss: %.3f' %\n",
    "                  (epoch + 1, i + 1, running_loss / 2000))\n",
    "            running_loss = 0.0\n",
    "\n",
    "print('Finished Training')"
   ]
  },
  {
   "cell_type": "code",
   "execution_count": null,
   "id": "f75882e2",
   "metadata": {},
   "outputs": [],
   "source": [
    "# save model \n",
    "PATH = './cifar_net.pth'\n",
    "torch.save(net.state_dict(), PATH)"
   ]
  },
  {
   "cell_type": "markdown",
   "id": "67781a70",
   "metadata": {},
   "source": [
    "### Test the network on the test data"
   ]
  },
  {
   "cell_type": "code",
   "execution_count": 42,
   "id": "a437e606",
   "metadata": {},
   "outputs": [
    {
     "name": "stdout",
     "output_type": "stream",
     "text": [
      "GroundTruth:    cat  ship  ship plane\n"
     ]
    },
    {
     "data": {
      "image/png": "[encoded data removed]",
      "text/plain": [
       "<Figure size 432x288 with 1 Axes>"
      ]
     },
     "metadata": {
      "needs_background": "light"
     },
     "output_type": "display_data"
    }
   ],
   "source": [
    "dataiter = iter(testloader)\n",
    "images, labels = dataiter.next()\n",
    "\n",
    "# print images\n",
    "imshow(torchvision.utils.make_grid(images))\n",
    "print('GroundTruth: ', ' '.join('%5s' % classes[labels[j]] for j in range(4)))"
   ]
  },
  {
   "cell_type": "code",
   "execution_count": 43,
   "id": "6cce4290",
   "metadata": {},
   "outputs": [
    {
     "name": "stdout",
     "output_type": "stream",
     "text": [
      "Predicted:    cat   car   car  ship\n"
     ]
    }
   ],
   "source": [
    "outputs = net(images)\n",
    "\n",
    "_, predicted = torch.max(outputs, 1)\n",
    "\n",
    "print('Predicted: ', ' '.join('%5s' % classes[predicted[j]]\n",
    "                              for j in range(4)))"
   ]
  },
  {
   "cell_type": "markdown",
   "id": "504a88a8",
   "metadata": {},
   "source": [
    "Look the network performances on the whole dataset"
   ]
  },
  {
   "cell_type": "code",
   "execution_count": 44,
   "id": "a783dec7",
   "metadata": {},
   "outputs": [
    {
     "name": "stdout",
     "output_type": "stream",
     "text": [
      "Accuracy of the network on the 10000 test images: 56 %\n"
     ]
    }
   ],
   "source": [
    "correct = 0\n",
    "total = 0\n",
    "with torch.no_grad():\n",
    "    for data in testloader:\n",
    "        images, labels = data\n",
    "        outputs = net(images)\n",
    "        _, predicted = torch.max(outputs.data, 1)\n",
    "        total += labels.size(0)\n",
    "        correct += (predicted == labels).sum().item()\n",
    "\n",
    "print('Accuracy of the network on the 10000 test images: %d %%' % (\n",
    "    100 * correct / total))"
   ]
  },
  {
   "cell_type": "code",
   "execution_count": 45,
   "id": "1681f34c",
   "metadata": {},
   "outputs": [
    {
     "name": "stdout",
     "output_type": "stream",
     "text": [
      "Accuracy of plane : 65 %\n",
      "Accuracy of   car : 73 %\n",
      "Accuracy of  bird : 41 %\n",
      "Accuracy of   cat : 36 %\n",
      "Accuracy of  deer : 43 %\n",
      "Accuracy of   dog : 49 %\n",
      "Accuracy of  frog : 62 %\n",
      "Accuracy of horse : 70 %\n",
      "Accuracy of  ship : 61 %\n",
      "Accuracy of truck : 62 %\n"
     ]
    }
   ],
   "source": [
    "class_correct = list(0. for i in range(10))\n",
    "class_total = list(0. for i in range(10))\n",
    "with torch.no_grad():\n",
    "    for data in testloader:\n",
    "        images, labels = data\n",
    "        outputs = net(images)\n",
    "        _, predicted = torch.max(outputs, 1)\n",
    "        c = (predicted == labels).squeeze()\n",
    "        for i in range(4):\n",
    "            label = labels[i]\n",
    "            class_correct[label] += c[i].item()\n",
    "            class_total[label] += 1\n",
    "\n",
    "\n",
    "for i in range(10):\n",
    "    print('Accuracy of %5s : %2d %%' % (\n",
    "        classes[i], 100 * class_correct[i] / class_total[i]))"
   ]
  },
  {
   "cell_type": "markdown",
   "id": "5dfd7dc4",
   "metadata": {},
   "source": [
    "### Training with GPU"
   ]
  },
  {
   "cell_type": "code",
   "execution_count": 46,
   "id": "e073ce61",
   "metadata": {},
   "outputs": [
    {
     "name": "stdout",
     "output_type": "stream",
     "text": [
      "cpu\n"
     ]
    }
   ],
   "source": [
    "device = torch.device(\"cuda:0\" if torch.cuda.is_available() else \"cpu\")\n",
    "\n",
    "\n",
    "print(device)\n",
    "\n",
    "net.to(device)\n",
    "inputs, labels = inputs.to(device), labels.to(device)"
   ]
  },
  {
   "cell_type": "code",
   "execution_count": null,
   "id": "8b05e88d",
   "metadata": {},
   "outputs": [],
   "source": []
  }
 ],
 "metadata": {
  "kernelspec": {
   "display_name": "Python [conda env:pytroch]",
   "language": "python",
   "name": "conda-env-pytroch-py"
  },
  "language_info": {
   "codemirror_mode": {
    "name": "ipython",
    "version": 3
   },
   "file_extension": ".py",
   "mimetype": "text/x-python",
   "name": "python",
   "nbconvert_exporter": "python",
   "pygments_lexer": "ipython3",
   "version": "3.9.12"
  }
 },
 "nbformat": 4,
 "nbformat_minor": 5
}
